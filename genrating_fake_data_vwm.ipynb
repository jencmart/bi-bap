{
 "cells": [
  {
   "cell_type": "code",
   "execution_count": 81,
   "metadata": {},
   "outputs": [],
   "source": [
    "import random\n",
    "import numpy as np\n",
    "import pandas as pd\n",
    "import matplotlib.pyplot as plt # takto se matplotlib standardně importuje\n",
    "import matplotlib\n",
    "# bez násl. řádku někdy nefunguje vykreslování grafů v Jupyter noteboocích\n",
    "%matplotlib inline "
   ]
  },
  {
   "cell_type": "code",
   "execution_count": 64,
   "metadata": {},
   "outputs": [],
   "source": [
    "t1 = np.random.uniform(1.13, 2.5, size=(50))\n",
    "t2 = np.random.randint(2, 8, size=(50))\n",
    "low_num = np.vstack((t1,t2))"
   ]
  },
  {
   "cell_type": "code",
   "execution_count": 65,
   "metadata": {},
   "outputs": [],
   "source": [
    "t1 = np.random.uniform(2.2, 3.3, size=(50))\n",
    "t2 = np.random.randint(8, 19, size=(50))\n",
    "mid_num = np.vstack((t1,t2))"
   ]
  },
  {
   "cell_type": "code",
   "execution_count": 73,
   "metadata": {},
   "outputs": [],
   "source": [
    "t1 = np.random.uniform(3.0, 5.6, size=(50))\n",
    "t2 = np.random.randint(17, 30, size=(50))\n",
    "high_num = np.vstack((t1,t2))"
   ]
  },
  {
   "cell_type": "code",
   "execution_count": 74,
   "metadata": {},
   "outputs": [],
   "source": [
    "conc = np.concatenate([ low_num, mid_num, high_num], axis=1)"
   ]
  },
  {
   "cell_type": "code",
   "execution_count": 75,
   "metadata": {},
   "outputs": [],
   "source": [
    "conct = conc.T"
   ]
  },
  {
   "cell_type": "code",
   "execution_count": 76,
   "metadata": {},
   "outputs": [],
   "source": [
    "df = pd.DataFrame(data=conct, columns=['time', 'depth'])"
   ]
  },
  {
   "cell_type": "code",
   "execution_count": 77,
   "metadata": {},
   "outputs": [],
   "source": [
    " def shuffle(df, n=1, axis=0):     \n",
    "    df = df.copy()\n",
    "    for _ in range(n):\n",
    "        df.apply(np.random.shuffle, axis=axis)\n",
    "    return df"
   ]
  },
  {
   "cell_type": "code",
   "execution_count": 78,
   "metadata": {},
   "outputs": [],
   "source": [
    "df = shuffle(df, axis=1)"
   ]
  },
  {
   "cell_type": "code",
   "execution_count": 89,
   "metadata": {},
   "outputs": [
    {
     "data": {
      "text/plain": [
       "[<matplotlib.lines.Line2D at 0x7f25803c1710>]"
      ]
     },
     "execution_count": 89,
     "metadata": {},
     "output_type": "execute_result"
    },
    {
     "data": {
      "image/png": "[encoded data removed]",
      "text/plain": [
       "<Figure size 432x288 with 1 Axes>"
      ]
     },
     "metadata": {
      "needs_background": "light"
     },
     "output_type": "display_data"
    }
   ],
   "source": [
    "#df.plot(style='o')\n",
    "plt.plot(conct[:,1], conct[:,0], 'o')"
   ]
  },
  {
   "cell_type": "code",
   "execution_count": 90,
   "metadata": {},
   "outputs": [],
   "source": [
    "mu, sigma = 1, 0.8 # mean and standard deviation\n",
    "e = np.random.normal(mu, sigma, 150)"
   ]
  },
  {
   "cell_type": "code",
   "execution_count": 109,
   "metadata": {},
   "outputs": [
    {
     "data": {
      "text/plain": [
       "(array([ 1.,  0.,  1.,  0.,  1.,  3.,  0.,  2.,  7.,  0.,  6.,  9.,  0.,\n",
       "        19., 15.,  0., 14., 12.,  0.,  8., 14.,  0., 11.,  6.,  0.,  7.,\n",
       "         5.,  0.,  4.,  3.,  2.]),\n",
       " array([ 6.        ,  6.67741935,  7.35483871,  8.03225806,  8.70967742,\n",
       "         9.38709677, 10.06451613, 10.74193548, 11.41935484, 12.09677419,\n",
       "        12.77419355, 13.4516129 , 14.12903226, 14.80645161, 15.48387097,\n",
       "        16.16129032, 16.83870968, 17.51612903, 18.19354839, 18.87096774,\n",
       "        19.5483871 , 20.22580645, 20.90322581, 21.58064516, 22.25806452,\n",
       "        22.93548387, 23.61290323, 24.29032258, 24.96774194, 25.64516129,\n",
       "        26.32258065, 27.        ]),\n",
       " <a list of 31 Patch objects>)"
      ]
     },
     "execution_count": 109,
     "metadata": {},
     "output_type": "execute_result"
    },
    {
     "data": {
      "image/png": "[encoded data removed]",
      "text/plain": [
       "<Figure size 432x288 with 1 Axes>"
      ]
     },
     "metadata": {
      "needs_background": "light"
     },
     "output_type": "display_data"
    }
   ],
   "source": [
    "import scipy.stats as ss\n",
    "import numpy as np\n",
    "import matplotlib.pyplot as plt\n",
    "\n",
    "x = np.arange(-15, 16)\n",
    "xU, xL = x + 0.5, x - 0.5 \n",
    "prob = ss.norm.cdf(xU, scale = 4) - ss.norm.cdf(xL, scale = 4)\n",
    "prob = prob / prob.sum() #normalize the probabilities so their sum is 1\n",
    "nums = np.random.choice(x, size = 150, p = prob)\n",
    "nums = nums + 17\n",
    "plt.hist(nums, bins = len(x))\n"
   ]
  },
  {
   "cell_type": "code",
   "execution_count": 113,
   "metadata": {},
   "outputs": [],
   "source": [
    "y = nums/6 + e"
   ]
  },
  {
   "cell_type": "code",
   "execution_count": 114,
   "metadata": {},
   "outputs": [
    {
     "data": {
      "text/plain": [
       "array([4.88466371, 2.29645796, 6.40186031, 3.9057768 , 2.52833477,\n",
       "       3.73892354, 3.78981167, 3.43502062, 2.25883614, 4.5597327 ,\n",
       "       3.25903443, 3.61739627, 4.61767001, 4.82917107, 3.98274942,\n",
       "       3.36796031, 4.94957504, 3.08175673, 3.9870201 , 2.72686183,\n",
       "       4.32575602, 4.54349401, 4.75993972, 3.37999493, 4.42881113,\n",
       "       4.09811508, 3.70153644, 3.17950188, 3.22671014, 3.46609186,\n",
       "       5.08586732, 3.62062218, 2.56710585, 5.21400369, 2.75718069,\n",
       "       3.84489216, 4.32314363, 4.15064653, 4.18139918, 4.36503166,\n",
       "       2.99570264, 3.90067003, 4.89959049, 3.70411451, 3.18562722,\n",
       "       4.79528466, 2.9322913 , 3.16422329, 3.38991216, 4.34587523,\n",
       "       6.30104826, 4.13383284, 2.57251716, 2.8225425 , 3.95861555,\n",
       "       4.104717  , 3.90150019, 3.98701364, 1.3620594 , 5.40779923,\n",
       "       2.72687458, 2.95341206, 3.84295341, 4.97777594, 4.93307447,\n",
       "       4.24545794, 4.61073261, 2.4386442 , 1.96980214, 4.11788749,\n",
       "       3.1617806 , 3.73116461, 3.44897017, 5.25795994, 2.34080695,\n",
       "       3.49519089, 5.49951832, 4.46974463, 4.04660684, 3.45769744,\n",
       "       4.33331882, 3.29851363, 3.1177189 , 4.99410597, 2.61841033,\n",
       "       3.94019896, 3.5004732 , 3.28726883, 1.91014797, 4.1440439 ,\n",
       "       4.662647  , 2.08640634, 1.70523934, 4.89971145, 3.65867473,\n",
       "       4.08733007, 4.71130661, 5.16030955, 3.7116345 , 3.87756473,\n",
       "       5.18959917, 4.35527547, 4.84550355, 4.3101891 , 3.61344747,\n",
       "       3.50531993, 3.4685463 , 4.22530608, 3.37671345, 5.29226064,\n",
       "       4.50030065, 5.23359639, 3.66269054, 4.76878558, 4.07639412,\n",
       "       2.74009715, 4.93659958, 4.27363268, 4.31168411, 3.17988643,\n",
       "       4.96178873, 3.37646268, 5.11883021, 4.72410244, 4.74669792,\n",
       "       3.75303784, 3.97735538, 4.46229133, 4.83836213, 3.18246908,\n",
       "       2.59759525, 4.98453389, 1.62820274, 5.22309267, 5.22949313,\n",
       "       5.07047683, 1.81190225, 4.79358805, 3.80548192, 5.80671805,\n",
       "       4.85626012, 5.02978953, 4.32350454, 5.72975897, 1.93673573,\n",
       "       4.19957901, 3.14117979, 3.81152506, 4.23064239, 4.25575648])"
      ]
     },
     "execution_count": 114,
     "metadata": {},
     "output_type": "execute_result"
    }
   ],
   "source": [
    "y"
   ]
  },
  {
   "cell_type": "code",
   "execution_count": 132,
   "metadata": {},
   "outputs": [
    {
     "data": {
      "text/plain": [
       "[<matplotlib.lines.Line2D at 0x7f2579af6128>]"
      ]
     },
     "execution_count": 132,
     "metadata": {},
     "output_type": "execute_result"
    },
    {
     "data": {
      "image/png": "[encoded data removed]",
      "text/plain": [
       "<Figure size 640x480 with 1 Axes>"
      ]
     },
     "metadata": {},
     "output_type": "display_data"
    }
   ],
   "source": [
    "from matplotlib.pyplot import figure\n",
    "\n",
    "figure(num=None, figsize=(8, 6), dpi=80, facecolor='w', edgecolor='k')\n",
    "plt.title('Doba odezvy webu v závislosti na délce query')\n",
    "plt.xlabel('hloubka stromu', fontsize=12)\n",
    "plt.ylabel('čas (sec)', fontsize=12)\n",
    "plt.plot(nums, nums/6 +1, '-r')\n",
    "plt.plot(nums, y,  'o')"
   ]
  },
  {
   "cell_type": "code",
   "execution_count": 138,
   "metadata": {},
   "outputs": [
    {
     "data": {
      "text/html": [
       "<div>\n",
       "<style scoped>\n",
       "    .dataframe tbody tr th:only-of-type {\n",
       "        vertical-align: middle;\n",
       "    }\n",
       "\n",
       "    .dataframe tbody tr th {\n",
       "        vertical-align: top;\n",
       "    }\n",
       "\n",
       "    .dataframe thead th {\n",
       "        text-align: right;\n",
       "    }\n",
       "</style>\n",
       "<table border=\"1\" class=\"dataframe\">\n",
       "  <thead>\n",
       "    <tr style=\"text-align: right;\">\n",
       "      <th></th>\n",
       "      <th>time</th>\n",
       "      <th>depth</th>\n",
       "    </tr>\n",
       "  </thead>\n",
       "  <tbody>\n",
       "    <tr>\n",
       "      <th>count</th>\n",
       "      <td>150.000000</td>\n",
       "      <td>150.000000</td>\n",
       "    </tr>\n",
       "    <tr>\n",
       "      <th>mean</th>\n",
       "      <td>3.004992</td>\n",
       "      <td>13.360000</td>\n",
       "    </tr>\n",
       "    <tr>\n",
       "      <th>std</th>\n",
       "      <td>1.185591</td>\n",
       "      <td>8.230961</td>\n",
       "    </tr>\n",
       "    <tr>\n",
       "      <th>min</th>\n",
       "      <td>1.193998</td>\n",
       "      <td>2.000000</td>\n",
       "    </tr>\n",
       "    <tr>\n",
       "      <th>25%</th>\n",
       "      <td>2.102452</td>\n",
       "      <td>6.000000</td>\n",
       "    </tr>\n",
       "    <tr>\n",
       "      <th>50%</th>\n",
       "      <td>2.777586</td>\n",
       "      <td>13.000000</td>\n",
       "    </tr>\n",
       "    <tr>\n",
       "      <th>75%</th>\n",
       "      <td>3.678741</td>\n",
       "      <td>19.750000</td>\n",
       "    </tr>\n",
       "    <tr>\n",
       "      <th>max</th>\n",
       "      <td>5.568001</td>\n",
       "      <td>29.000000</td>\n",
       "    </tr>\n",
       "  </tbody>\n",
       "</table>\n",
       "</div>"
      ],
      "text/plain": [
       "             time       depth\n",
       "count  150.000000  150.000000\n",
       "mean     3.004992   13.360000\n",
       "std      1.185591    8.230961\n",
       "min      1.193998    2.000000\n",
       "25%      2.102452    6.000000\n",
       "50%      2.777586   13.000000\n",
       "75%      3.678741   19.750000\n",
       "max      5.568001   29.000000"
      ]
     },
     "execution_count": 138,
     "metadata": {},
     "output_type": "execute_result"
    }
   ],
   "source": [
    "df.describe()"
   ]
  },
  {
   "cell_type": "code",
   "execution_count": null,
   "metadata": {},
   "outputs": [],
   "source": []
  }
 ],
 "metadata": {
  "kernelspec": {
   "display_name": "Python 3",
   "language": "python",
   "name": "python3"
  },
  "language_info": {
   "codemirror_mode": {
    "name": "ipython",
    "version": 3
   },
   "file_extension": ".py",
   "mimetype": "text/x-python",
   "name": "python",
   "nbconvert_exporter": "python",
   "pygments_lexer": "ipython3",
   "version": "3.7.1"
  },
  "toc": {
   "base_numbering": 1,
   "nav_menu": {},
   "number_sections": false,
   "sideBar": false,
   "skip_h1_title": false,
   "title_cell": "Table of Contents",
   "title_sidebar": "Contents",
   "toc_cell": false,
   "toc_position": {},
   "toc_section_display": false,
   "toc_window_display": false
  }
 },
 "nbformat": 4,
 "nbformat_minor": 2
}
