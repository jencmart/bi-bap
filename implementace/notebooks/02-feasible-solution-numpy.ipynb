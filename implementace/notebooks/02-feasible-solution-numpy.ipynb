{
 "cells": [
  {
   "cell_type": "code",
   "execution_count": 1,
   "metadata": {},
   "outputs": [],
   "source": [
    "import numpy as np\n",
    "import matplotlib.pyplot as plt\n",
    "import math\n",
    "import time\n",
    "%matplotlib inline"
   ]
  },
  {
   "cell_type": "markdown",
   "metadata": {},
   "source": [
    "## FIRST, LETS CONSTRUCT THE FEASIBLE-SOLUTION (FSA) ALGORITH\n",
    "* Implementation is based on \n",
    "* Douglas M. Hawkins, 1992"
   ]
  },
  {
   "cell_type": "code",
   "execution_count": 141,
   "metadata": {},
   "outputs": [],
   "source": [
    "# currently support for np.ndarray and matrix\n",
    "def validate(X, y, h_size, use_intercept):\n",
    "    if X is None or not isinstance(X, (np.ndarray, np.matrix)):\n",
    "        raise Exception('X must be  type array or np.ndarray or np.matrix')\n",
    "    if y is None or not isinstance(y, (np.ndarray, np.matrix)):\n",
    "        raise Exception('y must be  type array or np.ndarray or np.matrix')\n",
    "\n",
    "    if X.ndim == 1:\n",
    "        X = np.reshape(X, [X.shape[0], 1])\n",
    "    if y.ndim == 1:\n",
    "        y = np.reshape(y, [y.shape[0], 1])\n",
    "\n",
    "    if type(X) is not np.matrix:\n",
    "        X = np.asmatrix(X)\n",
    "    if type(y) is not np.matrix:\n",
    "        y = np.asmatrix(y)\n",
    "\n",
    "    if y.ndim != 1:\n",
    "        if y.ndim != 2 or y.shape[1] != 1:\n",
    "            raise ValueError('y must be 1D array')\n",
    "    if y.shape[0] != X.shape[0]:\n",
    "        raise ValueError('X and y must have same number of samples')\n",
    "\n",
    "    if X.shape[0] < 1:  # expects N >= 1\n",
    "        raise ValueError('You must provide at least one sample')\n",
    "\n",
    "    if X.ndim < 1:  # expects p >=1\n",
    "        raise ValueError('X has zero dimensions')\n",
    "\n",
    "    if h_size != 'default':\n",
    "        if h_size > X.shape[0]:\n",
    "            raise ValueError('H_size must not be > number of samples')\n",
    "        if h_size < 1:\n",
    "            raise ValueError('H_size must be > 0 ; preferably (n + p + 1) / 2 <= h_size <= n ')\n",
    "\n",
    "    if use_intercept:\n",
    "        merged = np.concatenate([y, X, np.ones((X.shape[0], 1))], axis=1)\n",
    "    else:\n",
    "        merged = np.concatenate([y, X], axis=1)\n",
    "\n",
    "    return np.asmatrix(merged)\n",
    "\n",
    "\n",
    "# for storage only\n",
    "class Result:\n",
    "    def __init__(self, theta_hat, h_index, rss, steps):\n",
    "        self.theta_hat = theta_hat\n",
    "        self.h_index = h_index\n",
    "        self.rss = rss\n",
    "        self.steps = steps\n",
    "        \n",
    "class FSARegression:\n",
    "    def __init__(self):\n",
    "        self._data = None\n",
    "        self._p = None\n",
    "        self._N = None\n",
    "        self._h_size = None\n",
    "        # public\n",
    "        self.n_iter_ = None\n",
    "        self.coef_ = None\n",
    "        self.intercept_ = None\n",
    "        self.h_subset_ = None\n",
    "        self.rss_ = None       \n",
    "        \n",
    "    def fit(self, X, y,\n",
    "            num_starts: 'number of initial starts (H1)' = 10,\n",
    "            h_size: 'default := (n + p + 1) / 2' = 'default',\n",
    "            use_intercept=True):\n",
    "\n",
    "        # Init some properties\n",
    "        self._data = validate(X, y, h_size, use_intercept)\n",
    "        \n",
    "        self._p = self._data.shape[1] - 1\n",
    "        self._N = self._data.shape[0]\n",
    "\n",
    "        if h_size == 'default':\n",
    "            self._h_size = math.ceil((self._N + self._p + 1) / 2)  # todo with or without intercept?\n",
    "        else:\n",
    "            self._h_size = h_size\n",
    "            \n",
    "            \n",
    "        self.x_all = self._data[:, 1:]\n",
    "        self.y_all = self._data[:, [0]]\n",
    "            \n",
    "        results = []\n",
    "        \n",
    "        # for all initial starts\n",
    "        for i in range(num_starts):\n",
    "            \n",
    "            # generate random subset J, |J| = h and its complement M \n",
    "            idx_initial, idx_rest = self.select_initial_h1()\n",
    "            # save splitted data\n",
    "            J = self._data[idx_initial]\n",
    "            M = self._data[idx_rest]\n",
    "            # do the refinement process\n",
    "            res = self.refinement_process(J, M, idx_initial, idx_rest)\n",
    "                    \n",
    "            # store the results\n",
    "            results.append(res)\n",
    "            \n",
    "        # select best results\n",
    "        best_result = results[0]\n",
    "        for res in results:\n",
    "            if res.rss < best_result.rss:\n",
    "                best_result = res\n",
    "            \n",
    "        \n",
    "         # ... Store results\n",
    "        theta_final = best_result.theta_hat\n",
    "        \n",
    "        if use_intercept:\n",
    "            self.intercept_ = theta_final[-1,0]  # last row last col\n",
    "            self.coef_ = theta_final[:-1,0]  # for all but last row,  only first col\n",
    "        else:\n",
    "            self.intercept_ = 0.0\n",
    "            self.coef_ = theta_final[:,0]  # all rows, only first col\n",
    "\n",
    "        self.h_subset_ = best_result.h_index\n",
    "        self.rss_ = best_result.rss\n",
    "        self.steps_ = best_result.steps\n",
    "        \n",
    "        self.coef_ = np.ravel(self.coef_) # RAVELED\n",
    "        \n",
    "    def go_through_all_pairs(self, J, M, inversion, residuals_J, residuals_M):\n",
    "        delta = 1\n",
    "        i_to_swap = None\n",
    "        j_to_swap = None\n",
    "        \n",
    "        # go through all combinations\n",
    "        for i in range(J.shape[0]):\n",
    "            for j in range(M.shape[0]):\n",
    "                #. calculate deltaRSS\n",
    "                tmp_delta = self.calculate_delta_rss(J, M, inversion, residuals_J, residuals_M, i, j)\n",
    "                # if delta rss < bestDeltaRss\n",
    "                if tmp_delta < 0 and tmp_delta < delta:\n",
    "                    delta = tmp_delta\n",
    "                    i_to_swap = i\n",
    "                    j_to_swap = j\n",
    "                    \n",
    "        return i_to_swap, j_to_swap, delta\n",
    "                        \n",
    "    def refinement_process(self, J, M, idx_initial, idx_rest):\n",
    "        theta = None \n",
    "        steps = 0\n",
    "        \n",
    "        while(True):\n",
    "            \n",
    "            # data for delata eqation\n",
    "            y = J[:, [0]]\n",
    "            x = J[:, 1:]\n",
    "            inversion = (x.T * x).I\n",
    "            theta = inversion * x.T * y # OLS\n",
    "            residuals_J = y - x * theta\n",
    "            residuals_M = (M[:, [0]]) - (M[:, 1:]) * theta\n",
    "            \n",
    "            # vector_residulas_all = self.y_all - self.x_all * theta # non squared residual vector [ON ALL CASES!]\n",
    "            \n",
    "            i_to_swap, j_to_swap, delta = self.go_through_all_pairs(J, M, inversion, residuals_J, residuals_M)\n",
    "            # if bestRess >= 0 : break\n",
    "            \n",
    "            if delta >= 0:\n",
    "                break            \n",
    "            else: # swap i and j [TOGHETHER WITH INDEXES] ; je to ok - SWAPUJEME SPRAVNE            \n",
    "                tmp = np.copy( J[i_to_swap] ) \n",
    "                J[i_to_swap] = np.copy( M[j_to_swap] )\n",
    "                M[j_to_swap] = np.copy( tmp )\n",
    "                idx_initial[i_to_swap], idx_rest[j_to_swap] = idx_rest[j_to_swap], idx_initial[i_to_swap]\n",
    "                steps +=1\n",
    "            # END WHILE\n",
    "        ############################################\n",
    "            \n",
    "        # finally calculate RSS\n",
    "        y_fin = J[:, [0]]\n",
    "        x_fin = J[:, 1:]\n",
    "        rss = (y_fin - x_fin * theta).T * (y_fin - x_fin * theta)\n",
    "\n",
    "        rss = RSS(J, theta)  \n",
    "        print(\"one result done, steps: \", steps)\n",
    "        # uloz soucasny_set == theta, h_index, rss\n",
    "        return Result(theta, idx_initial, rss, steps)\n",
    "      \n",
    "    def calculate_delta_rss(self, J, M, inversion, residuals_J, residuals_M, i, j):\n",
    "        eiJ = residuals_J[i, 0]\n",
    "        ejJ = residuals_M[j, 0]\n",
    "        hii = J[i,1:] * inversion * (J[i,1:]).T\n",
    "        hij = J[i,1:] * inversion * (M[j,1:]).T\n",
    "        hjj = M[j,1:] * inversion * (M[j,1:]).T\n",
    "        hii = hii[0,0]\n",
    "        hij = hij[0,0]\n",
    "        hjj = hjj[0,0]\n",
    "        \n",
    "        nom = (ejJ * ejJ * (1 - hii) ) - ( eiJ * eiJ * (1 + hjj)) + 2*eiJ*ejJ*hij\n",
    "        \n",
    "        denom = (1 - hii)*(1 + hjj) + hij * hij\n",
    "        return nom/denom\n",
    "    \n",
    "        # Select initial H1\n",
    "    def select_initial_h1(self):\n",
    "\n",
    "        # create random permutation\n",
    "        idx_all = np.random.permutation(self._N)\n",
    "        \n",
    "        # cut first h indexes and save the rest\n",
    "        idx_initial = idx_all[:self._h_size]\n",
    "        idx_rest = idx_all[self._h_size:]\n",
    "        \n",
    "        return idx_initial, idx_rest\n",
    "\n"
   ]
  },
  {
   "cell_type": "markdown",
   "metadata": {},
   "source": [
    "## Now, lets generate some data"
   ]
  },
  {
   "cell_type": "code",
   "execution_count": 67,
   "metadata": {},
   "outputs": [
    {
     "data": {
      "text/plain": [
       "<matplotlib.collections.PathCollection at 0x7fd8765bfb00>"
      ]
     },
     "execution_count": 67,
     "metadata": {},
     "output_type": "execute_result"
    },
    {
     "data": {
      "image/png": "[encoded data removed]",
      "text/plain": [
       "<Figure size 864x576 with 1 Axes>"
      ]
     },
     "metadata": {
      "needs_background": "light"
     },
     "output_type": "display_data"
    }
   ],
   "source": [
    "# LINEAR DATA\n",
    "# data generated same way as in Rousseeuw and Driessen 2000\n",
    "X_original = np.random.normal(loc=0,scale=10, size=100) # var = 100\n",
    "e = np.random.normal(loc=0,scale=1, size=100) # var = 1\n",
    "y_original = 1 + X_original + e\n",
    "\n",
    "# OUTLIERS\n",
    "# multivariate N(mean = location, covariance)\n",
    "# diagonalni 25 I\n",
    "outliers = np.random.multivariate_normal(mean = [50, 0], \n",
    "                                         cov = [[25, 0], [0, 25]], \n",
    "                                         size=20)\n",
    "\n",
    "# FINAL DATA\n",
    "X = np.concatenate((X_original,outliers.T[0]), axis=0)\n",
    "y = np.concatenate((y_original,outliers.T[1]), axis=0)\n",
    "\n",
    "plt.figure(figsize=(12,8))\n",
    "plt.scatter(x=X, y=y)"
   ]
  },
  {
   "cell_type": "markdown",
   "metadata": {},
   "source": [
    "## And now, lets test our algorithm"
   ]
  },
  {
   "cell_type": "code",
   "execution_count": 142,
   "metadata": {},
   "outputs": [
    {
     "name": "stdout",
     "output_type": "stream",
     "text": [
      "one result done, steps:  31\n",
      "one result done, steps:  36\n",
      "one result done, steps:  37\n",
      "one result done, steps:  36\n",
      "one result done, steps:  29\n",
      "one result done, steps:  37\n",
      "one result done, steps:  32\n",
      "one result done, steps:  28\n",
      "one result done, steps:  37\n",
      "one result done, steps:  35\n"
     ]
    }
   ],
   "source": [
    "lts_fsa = FSARegression()\n",
    "lts_fsa.fit(X, y, use_intercept=True, num_starts=10)"
   ]
  },
  {
   "cell_type": "code",
   "execution_count": 143,
   "metadata": {},
   "outputs": [
    {
     "name": "stdout",
     "output_type": "stream",
     "text": [
      "wights:  [0.99389845]\n",
      "intercept:  0.9913897818883352\n",
      "rss:  [[12.67281091]]\n",
      "iters(+2): 35\n"
     ]
    },
    {
     "data": {
      "image/png": "[encoded data removed]",
      "text/plain": [
       "<Figure size 864x576 with 1 Axes>"
      ]
     },
     "metadata": {
      "needs_background": "light"
     },
     "output_type": "display_data"
    }
   ],
   "source": [
    "print('wights: ', lts_fsa.coef_)\n",
    "print('intercept: ', lts_fsa.intercept_)\n",
    "print('rss: ', lts_fsa.rss_)\n",
    "print('iters(+2):', lts_fsa.steps_)  # final inters only...\n",
    "arr_idx = lts_fsa.h_subset_\n",
    "\n",
    "# Plot data\n",
    "y_used = y[arr_idx]\n",
    "X_used = X[arr_idx]\n",
    "# nifty trick\n",
    "mask = np.ones(y.shape[0], np.bool)\n",
    "mask[arr_idx] = 0\n",
    "y_not_used = y[mask]\n",
    "X_not_used = X[mask]\n",
    "\n",
    "# Pot itself\n",
    "plt.figure(figsize=(12, 8))\n",
    "plt.plot(X_not_used, y_not_used, 'b.')\n",
    "plt.plot(X_used, y_used, 'r.')\n",
    "\n",
    "#tmp =  ( lts_fsa.coef_ * X + lts_fsa.intercept_)\n",
    "#tmp = np.ravel(tmp)\n",
    "\n",
    "plt.plot(X, tmp, '-g')\n",
    "plt.show()"
   ]
  },
  {
   "cell_type": "code",
   "execution_count": null,
   "metadata": {},
   "outputs": [],
   "source": []
  }
 ],
 "metadata": {
  "kernelspec": {
   "display_name": "Python 3",
   "language": "python",
   "name": "python3"
  },
  "language_info": {
   "codemirror_mode": {
    "name": "ipython",
    "version": 3
   },
   "file_extension": ".py",
   "mimetype": "text/x-python",
   "name": "python",
   "nbconvert_exporter": "python",
   "pygments_lexer": "ipython3",
   "version": "3.7.1"
  }
 },
 "nbformat": 4,
 "nbformat_minor": 2
}
