{
 "cells": [
  {
   "cell_type": "code",
   "execution_count": 4,
   "metadata": {},
   "outputs": [],
   "source": [
    "import numpy as np\n",
    "import matplotlib.pyplot as plt\n",
    "from mpl_toolkits.mplot3d import Axes3D \n",
    "import math\n",
    "import time\n",
    "%matplotlib inline\n",
    "import numpy as np"
   ]
  },
  {
   "cell_type": "code",
   "execution_count": 7,
   "metadata": {},
   "outputs": [],
   "source": [
    "# generate y (can produce vertical outliers)\n",
    "# normal, exponential, lognormal\n",
    "def generate_y(X, mu, sigma, distribution='n'): \n",
    "    # SD (s) := standard deviation := sigma := scale   Standard deviation (spread or “width”) of the distribution.\n",
    "    # E := expected value ~ mean := mu      := loc     Mean (“centre”) of the distribution.\n",
    "    \n",
    "    if(distribution == 'n'):\n",
    "        e = np.random.normal(mu, sigma, (X.shape[0], 1))\n",
    "    elif(distribution == 'ln'):\n",
    "        e = np.random.lognormal(mu, sigma, (X.shape[0], 1))\n",
    "    else:\n",
    "        e = np.random.exponential(sigma, (X.shape[0], 1))\n",
    "        \n",
    "    y = np.concatenate((X, e), axis=1)\n",
    "    y = np.sum(y, axis=1)\n",
    "    return y\n",
    "    "
   ]
  },
  {
   "cell_type": "code",
   "execution_count": 35,
   "metadata": {},
   "outputs": [
    {
     "data": {
      "text/plain": [
       "array([5])"
      ]
     },
     "execution_count": 35,
     "metadata": {},
     "output_type": "execute_result"
    }
   ],
   "source": []
  },
  {
   "cell_type": "code",
   "execution_count": 183,
   "metadata": {
    "scrolled": true
   },
   "outputs": [
    {
     "data": {
      "text/plain": [
       "<matplotlib.collections.PathCollection at 0x7efcd2c870b8>"
      ]
     },
     "execution_count": 183,
     "metadata": {},
     "output_type": "execute_result"
    },
    {
     "data": {
      "image/png": "[encoded data removed]",
      "text/plain": [
       "<Figure size 1152x360 with 3 Axes>"
      ]
     },
     "metadata": {
      "needs_background": "light"
     },
     "output_type": "display_data"
    }
   ],
   "source": [
    "\n",
    "\n",
    "# PLOT\n",
    "plt.figure(figsize=(16,5)) \n",
    "\n",
    "\n",
    "####################### SUBPLOT 1\n",
    "plt.subplot(1,3, 1) \n",
    "\n",
    "#######################################################################################\n",
    "# CLEAN\n",
    "X = np.array([4.3, 4.9, 6.1])\n",
    "y = np.array([4., 5.2, 5.9])\n",
    "X = np.reshape(X, [3, 1])\n",
    "y = np.reshape(y, [3, 1])\n",
    "\n",
    "# DIRTY\n",
    "X_dirty = np.array(6.9) # X\n",
    "y_dirty = np.array(7.1)  # y\n",
    "X_dirty = np.reshape(X_dirty, [1,1])\n",
    "y_dirty = np.reshape(y_dirty, [1, 1])\n",
    "\n",
    "# CONCAT\n",
    "X = np.concatenate((X, X_dirty), axis=0)\n",
    "y = np.concatenate((y, y_dirty), axis=0)\n",
    "\n",
    "# REGRESE\n",
    "regr = linear_model.LinearRegression(fit_intercept=True, normalize=False).fit(X, y)\n",
    "######################################################################################\n",
    "\n",
    "plt.scatter(X, y,  color='black')\n",
    "plt.plot(X, X*regr.coef_ + regr.intercept_, color='blue', linewidth=2)\n",
    "\n",
    "plt.axis('equal')\n",
    "plt.scatter(X_dirty, y_dirty, c=\"r\")\n",
    "\n",
    "\n",
    "####################### SUBPLOT 2\n",
    "plt.subplot(1,3, 2) \n",
    "\n",
    "\n",
    "#######################################################################################\n",
    "# CLEAN\n",
    "X = np.array([4.3, 4.9, 6.1])\n",
    "y = np.array([4., 5.2, 5.9])\n",
    "X = np.reshape(X, [3, 1])\n",
    "y = np.reshape(y, [3, 1])\n",
    "\n",
    "# DIRTY\n",
    "X_dirty = np.array(7.5) # X\n",
    "y_dirty = np.array(4)  # y\n",
    "X_dirty = np.reshape(X_dirty, [1,1])\n",
    "y_dirty = np.reshape(y_dirty, [1, 1])\n",
    "\n",
    "# CONCAT\n",
    "X = np.concatenate((X, X_dirty), axis=0)\n",
    "y = np.concatenate((y, y_dirty), axis=0)\n",
    "\n",
    "# REGRESE\n",
    "regr = linear_model.LinearRegression(fit_intercept=True, normalize=False).fit(X, y)\n",
    "######################################################################################\n",
    "\n",
    "plt.scatter(X, y,  color='black')\n",
    "plt.plot(X,  X*regr.coef_ + regr.intercept_, color='blue', linewidth=2)\n",
    "\n",
    "plt.axis('equal')\n",
    "plt.scatter(X_dirty, y_dirty, c=\"r\")\n",
    "\n",
    "\n",
    "####################### SUBPLOT 3\n",
    "plt.subplot(1,3, 3) \n",
    "\n",
    "\n",
    "#######################################################################################\n",
    "# CLEAN\n",
    "X = np.array([4.3, 4.9, 6.1])\n",
    "y = np.array([4., 5.2, 5.9])\n",
    "X = np.reshape(X, [3, 1])\n",
    "y = np.reshape(y, [3, 1])\n",
    "\n",
    "# DIRTY\n",
    "X_dirty = np.array(9.8) # X\n",
    "y_dirty = np.array(0)  # y\n",
    "X_dirty = np.reshape(X_dirty, [1,1])\n",
    "y_dirty = np.reshape(y_dirty, [1, 1])\n",
    "\n",
    "# CONCAT\n",
    "X = np.concatenate((X, X_dirty), axis=0)\n",
    "y = np.concatenate((y, y_dirty), axis=0)\n",
    "\n",
    "# REGRESE\n",
    "regr = linear_model.LinearRegression(fit_intercept=True, normalize=False).fit(X, y)\n",
    "######################################################################################\n",
    "\n",
    "plt.scatter(X, y,  color='black')\n",
    "plt.plot(X, X*-1 + 10, color='blue', linewidth=2)\n",
    "\n",
    "plt.axis('equal')\n",
    "plt.scatter(X_dirty, y_dirty, c=\"r\")"
   ]
  },
  {
   "cell_type": "code",
   "execution_count": 132,
   "metadata": {
    "scrolled": true
   },
   "outputs": [
    {
     "name": "stdout",
     "output_type": "stream",
     "text": [
      "(3,)\n",
      "[[4. ]\n",
      " [5. ]\n",
      " [6.5]\n",
      " [0. ]]\n",
      "[[ 4. ]\n",
      " [ 5. ]\n",
      " [ 6.5]\n",
      " [10. ]]\n"
     ]
    },
    {
     "ename": "IndexError",
     "evalue": "index 1 is out of bounds for axis 0 with size 1",
     "output_type": "error",
     "traceback": [
      "\u001b[0;31m\u001b[0m",
      "\u001b[0;31mIndexError\u001b[0mTraceback (most recent call last)",
      "\u001b[0;32m<ipython-input-132-9af6201d371d>\u001b[0m in \u001b[0;36m<module>\u001b[0;34m\u001b[0m\n\u001b[1;32m     44\u001b[0m \u001b[0;31m# Plot outputs\u001b[0m\u001b[0;34m\u001b[0m\u001b[0;34m\u001b[0m\u001b[0;34m\u001b[0m\u001b[0m\n\u001b[1;32m     45\u001b[0m \u001b[0mplt\u001b[0m\u001b[0;34m.\u001b[0m\u001b[0mscatter\u001b[0m\u001b[0;34m(\u001b[0m\u001b[0mX\u001b[0m\u001b[0;34m,\u001b[0m \u001b[0my\u001b[0m\u001b[0;34m,\u001b[0m  \u001b[0mcolor\u001b[0m\u001b[0;34m=\u001b[0m\u001b[0;34m'black'\u001b[0m\u001b[0;34m)\u001b[0m\u001b[0;34m\u001b[0m\u001b[0;34m\u001b[0m\u001b[0m\n\u001b[0;32m---> 46\u001b[0;31m \u001b[0mplt\u001b[0m\u001b[0;34m.\u001b[0m\u001b[0mplot\u001b[0m\u001b[0;34m(\u001b[0m\u001b[0mX\u001b[0m\u001b[0;34m,\u001b[0m \u001b[0mX\u001b[0m\u001b[0;34m*\u001b[0m\u001b[0mw_hat\u001b[0m\u001b[0;34m[\u001b[0m\u001b[0;36m0\u001b[0m\u001b[0;34m]\u001b[0m \u001b[0;34m+\u001b[0m \u001b[0mw_hat\u001b[0m\u001b[0;34m[\u001b[0m\u001b[0;36m1\u001b[0m\u001b[0;34m]\u001b[0m\u001b[0;34m,\u001b[0m \u001b[0mcolor\u001b[0m\u001b[0;34m=\u001b[0m\u001b[0;34m'blue'\u001b[0m\u001b[0;34m,\u001b[0m \u001b[0mlinewidth\u001b[0m\u001b[0;34m=\u001b[0m\u001b[0;36m3\u001b[0m\u001b[0;34m)\u001b[0m\u001b[0;34m\u001b[0m\u001b[0;34m\u001b[0m\u001b[0m\n\u001b[0m\u001b[1;32m     47\u001b[0m \u001b[0mplt\u001b[0m\u001b[0;34m.\u001b[0m\u001b[0maxis\u001b[0m\u001b[0;34m(\u001b[0m\u001b[0;34m'equal'\u001b[0m\u001b[0;34m)\u001b[0m\u001b[0;34m\u001b[0m\u001b[0;34m\u001b[0m\u001b[0m\n\u001b[1;32m     48\u001b[0m \u001b[0;31m#plt.plot(X, X*regr.coef_ + regr.intercept_, color='blue', linewidth=3)\u001b[0m\u001b[0;34m\u001b[0m\u001b[0;34m\u001b[0m\u001b[0;34m\u001b[0m\u001b[0m\n",
      "\u001b[0;32m/opt/conda/lib/python3.7/site-packages/numpy/matrixlib/defmatrix.py\u001b[0m in \u001b[0;36m__getitem__\u001b[0;34m(self, index)\u001b[0m\n\u001b[1;32m    188\u001b[0m \u001b[0;34m\u001b[0m\u001b[0m\n\u001b[1;32m    189\u001b[0m         \u001b[0;32mtry\u001b[0m\u001b[0;34m:\u001b[0m\u001b[0;34m\u001b[0m\u001b[0;34m\u001b[0m\u001b[0m\n\u001b[0;32m--> 190\u001b[0;31m             \u001b[0mout\u001b[0m \u001b[0;34m=\u001b[0m \u001b[0mN\u001b[0m\u001b[0;34m.\u001b[0m\u001b[0mndarray\u001b[0m\u001b[0;34m.\u001b[0m\u001b[0m__getitem__\u001b[0m\u001b[0;34m(\u001b[0m\u001b[0mself\u001b[0m\u001b[0;34m,\u001b[0m \u001b[0mindex\u001b[0m\u001b[0;34m)\u001b[0m\u001b[0;34m\u001b[0m\u001b[0;34m\u001b[0m\u001b[0m\n\u001b[0m\u001b[1;32m    191\u001b[0m         \u001b[0;32mfinally\u001b[0m\u001b[0;34m:\u001b[0m\u001b[0;34m\u001b[0m\u001b[0;34m\u001b[0m\u001b[0m\n\u001b[1;32m    192\u001b[0m             \u001b[0mself\u001b[0m\u001b[0;34m.\u001b[0m\u001b[0m_getitem\u001b[0m \u001b[0;34m=\u001b[0m \u001b[0;32mFalse\u001b[0m\u001b[0;34m\u001b[0m\u001b[0;34m\u001b[0m\u001b[0m\n",
      "\u001b[0;31mIndexError\u001b[0m: index 1 is out of bounds for axis 0 with size 1"
     ]
    },
    {
     "data": {
      "image/png": "[encoded data removed]",
      "text/plain": [
       "<Figure size 432x288 with 1 Axes>"
      ]
     },
     "metadata": {
      "needs_background": "light"
     },
     "output_type": "display_data"
    }
   ],
   "source": [
    "X_clean = np.array([4, 5, 6.5])\n",
    "y_clean = np.array([4, 5, 6.5])\n",
    "X_clean = np.reshape(X_clean, [3, 1])\n",
    "y_clean = np.reshape(y_clean, [3, 1])\n",
    "tpm = generate_y(X_clean, mu=0, sigma=0.1, distribution='n')\n",
    "print(tpm.shape)\n",
    "\n",
    "shit = 10\n",
    "y_dirty = np.array(0)\n",
    "\n",
    "\n",
    "\n",
    "t = shit\n",
    "\n",
    "X_dirty = t \n",
    "X_dirty = np.reshape(X_dirty, [1,1])\n",
    "\n",
    "y_dirty = np.reshape(y_dirty, [1, 1])\n",
    "\n",
    "\n",
    "X = np.concatenate((X_clean, X_dirty), axis=0)\n",
    "X2 = np.array( [ [3.1, 1], [3.9, 1], [4.1, 1] , [t, 1] ]) \n",
    "X2 = np.reshape(X2, [4, 2])\n",
    "\n",
    "y = np.concatenate((y_clean, y_dirty), axis=0)\n",
    "\n",
    "#plt.scatter(x=X_clean, y=y_clean, c= 'y')\n",
    "#plt.scatter(x=X_dirty, y=y_dirty, c='b')\n",
    "\n",
    "print(y)\n",
    "print(X)\n",
    "# Create linear regression object\n",
    "regr = linear_model.LinearRegression(fit_intercept=True, normalize=False)\n",
    "\n",
    "# Train the model using the training sets\n",
    "regr.fit(X, y)\n",
    "\n",
    "XX = np.matrix(X)\n",
    "yy = np.matrix(y)\n",
    "w_hat = (XX.T*XX).I*XX.T*yy\n",
    "\n",
    "# y_pred = regr.predict(X_clean)\n",
    "\n",
    "# Plot outputs\n",
    "plt.scatter(X, y,  color='black')\n",
    "plt.plot(X, X*w_hat[0] + w_hat[1], color='blue', linewidth=3)\n",
    "plt.axis('equal')\n",
    "#plt.plot(X, X*regr.coef_ + regr.intercept_, color='blue', linewidth=3)\n",
    "# plt.scatter(shit, -shit,  color='red')\n",
    "\n",
    "# Make predictions using the testing set"
   ]
  },
  {
   "cell_type": "code",
   "execution_count": 5,
   "metadata": {},
   "outputs": [
    {
     "name": "stdout",
     "output_type": "stream",
     "text": [
      "Coefficients: \n",
      " [938.23786125]\n",
      "Mean squared error: 2548.07\n",
      "Variance score: 0.47\n"
     ]
    },
    {
     "data": {
      "image/png": "[encoded data removed]",
      "text/plain": [
       "<Figure size 432x288 with 1 Axes>"
      ]
     },
     "metadata": {},
     "output_type": "display_data"
    }
   ],
   "source": [
    "\n",
    "import matplotlib.pyplot as plt\n",
    "import numpy as np\n",
    "from sklearn import datasets, linear_model\n",
    "from sklearn.metrics import mean_squared_error, r2_score\n",
    "\n",
    "# Load the diabetes dataset\n",
    "diabetes = datasets.load_diabetes()\n",
    "\n",
    "\n",
    "# Use only one feature\n",
    "diabetes_X = diabetes.data[:, np.newaxis, 2]\n",
    "\n",
    "# Split the data into training/testing sets\n",
    "diabetes_X_train = diabetes_X[:-20]\n",
    "diabetes_X_test = diabetes_X[-20:]\n",
    "\n",
    "# Split the targets into training/testing sets\n",
    "diabetes_y_train = diabetes.target[:-20]\n",
    "diabetes_y_test = diabetes.target[-20:]\n",
    "\n",
    "# Create linear regression object\n",
    "regr = linear_model.LinearRegression()\n",
    "\n",
    "# Train the model using the training sets\n",
    "regr.fit(diabetes_X_train, diabetes_y_train)\n",
    "\n",
    "# Make predictions using the testing set\n",
    "diabetes_y_pred = regr.predict(diabetes_X_test)\n",
    "\n",
    "# The coefficients\n",
    "print('Coefficients: \\n', regr.coef_)\n",
    "# The mean squared error\n",
    "print(\"Mean squared error: %.2f\"\n",
    "      % mean_squared_error(diabetes_y_test, diabetes_y_pred))\n",
    "# Explained variance score: 1 is perfect prediction\n",
    "print('Variance score: %.2f' % r2_score(diabetes_y_test, diabetes_y_pred))\n",
    "\n",
    "# Plot outputs\n",
    "plt.scatter(diabetes_X_test, diabetes_y_test,  color='black')\n",
    "plt.plot(diabetes_X_test, diabetes_y_pred, color='blue', linewidth=3)\n",
    "\n",
    "plt.xticks(())\n",
    "plt.yticks(())\n",
    "\n",
    "plt.show()"
   ]
  },
  {
   "cell_type": "code",
   "execution_count": null,
   "metadata": {},
   "outputs": [],
   "source": [
    "\n",
    "# plot it all ######################\n",
    "i = 1\n",
    "plt.figure(figsize=(20,10))       # set dimensions of the figure\n",
    "for j in range(18):\n",
    "    plt.subplot(3,6, i)         # create subplots on a grid with 3 rows and 3 columns\n",
    "\n",
    "   \n",
    "    # plt.figure(figsize=(12,8))\n",
    "    plt.scatter(x=X, y=y, c= 'y')\n",
    "    plt.scatter(x=X_clean, y=y_clean, c='b')\n",
    "    #print(X.shape)\n",
    "    #print(X_clean.shape)\n",
    "\n",
    "\n",
    "    # plt.xlabel(models_results[model_name]['params'])\n",
    "\n",
    "    # plt.ylabel('median_absolute_error')\n",
    "    # plt.legend(['avg_train_crossval', 'avg_test_crossval','FINAL_test_acc(aka. holdout)'])\n",
    "    # plt.title(model_name+'_PCA(25)_intercept=true', fontsize=14, fontweight='bold')\n",
    "    i +=1\n",
    "\n",
    "plt.show()\n"
   ]
  }
 ],
 "metadata": {
  "kernelspec": {
   "display_name": "Python 3",
   "language": "python",
   "name": "python3"
  },
  "language_info": {
   "codemirror_mode": {
    "name": "ipython",
    "version": 3
   },
   "file_extension": ".py",
   "mimetype": "text/x-python",
   "name": "python",
   "nbconvert_exporter": "python",
   "pygments_lexer": "ipython3",
   "version": "3.7.1"
  }
 },
 "nbformat": 4,
 "nbformat_minor": 2
}
